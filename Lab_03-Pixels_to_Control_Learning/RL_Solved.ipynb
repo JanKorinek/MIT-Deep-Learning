{
  "nbformat": 4,
  "nbformat_minor": 0,
  "metadata": {
    "colab": {
      "name": "RL_Solution.ipynb",
      "provenance": [],
      "collapsed_sections": [
        "jrI6q7RmWQam"
      ]
    },
    "kernelspec": {
      "name": "python3",
      "display_name": "Python 3"
    },
    "accelerator": "GPU"
  },
  "cells": [
    {
      "cell_type": "markdown",
      "metadata": {
        "id": "jrI6q7RmWQam",
        "colab_type": "text"
      },
      "source": [
        "<table align=\"center\">\n",
        "  <td align=\"center\"><a target=\"_blank\" href=\"http://introtodeeplearning.com\">\n",
        "        <img src=\"http://introtodeeplearning.com/images/colab/mit.png\" style=\"padding-bottom:5px;\" />\n",
        "      Visit MIT Deep Learning</a></td>\n",
        "  <td align=\"center\"><a target=\"_blank\" href=\"https://colab.research.google.com/github/aamini/introtodeeplearning/blob/master/lab3/solutions/RL_Solution.ipynb\">\n",
        "        <img src=\"http://introtodeeplearning.com/images/colab/colab.png?v2.0\"  style=\"padding-bottom:5px;\" />Run in Google Colab</a></td>\n",
        "  <td align=\"center\"><a target=\"_blank\" href=\"https://github.com/aamini/introtodeeplearning/blob/master/lab3/solutions/RL_Solution.ipynb\">\n",
        "        <img src=\"http://introtodeeplearning.com/images/colab/github.png\"  height=\"70px\" style=\"padding-bottom:5px;\"  />View Source on GitHub</a></td>\n",
        "</table>\n",
        "\n",
        "# Copyright Information"
      ]
    },
    {
      "cell_type": "code",
      "metadata": {
        "id": "wkd375upWYok",
        "colab_type": "code",
        "colab": {}
      },
      "source": [
        "# Copyright 2020 MIT 6.S191 Introduction to Deep Learning. All Rights Reserved.\n",
        "# \n",
        "# Licensed under the MIT License. You may not use this file except in compliance\n",
        "# with the License. Use and/or modification of this code outside of 6.S191 must\n",
        "# reference:\n",
        "#\n",
        "# © MIT 6.S191: Introduction to Deep Learning\n",
        "# http://introtodeeplearning.com\n",
        "#"
      ],
      "execution_count": 0,
      "outputs": []
    },
    {
      "cell_type": "markdown",
      "metadata": {
        "id": "WoXYKhfZMHiw",
        "colab_type": "text"
      },
      "source": [
        "# Laboratory 3: Reinforcement Learning\n",
        "\n",
        "Reinforcement learning (RL) is a subset of machine learning which poses learning problems as interactions between agents and environments. It often assumes agents have no prior knowledge of a world, so they must learn to navigate environments by optimizing a reward function. Within an environment, an agent can take certain actions and receive feedback, in the form of positive or negative rewards, with respect to their decision. As such, an agent's feedback loop is somewhat akin to the idea of \"trial and error\", or the manner in which a child might learn to distinguish between \"good\" and \"bad\" actions.\n",
        "\n",
        "In practical terms, our RL agent will interact with the environment by taking an action at each timestep, receiving a corresponding reward, and updating its state according to what it has \"learned\".  \n",
        "\n",
        "![alt text](https://www.kdnuggets.com/images/reinforcement-learning-fig1-700.jpg)\n",
        "\n",
        "While the ultimate goal of reinforcement learning is to teach agents to act in the real, physical world, games provide a convenient proving ground for developing RL algorithms and agents. Games have some properties that make them particularly well suited for RL: \n",
        "\n",
        "1.   In many cases, games have perfectly describable environments. For example, all rules of chess can be formally written and programmed into a chess game simulator;\n",
        "2.   Games are massively parallelizable. Since they do not require running in the real world, simultaneous environments can be run on large data clusters; \n",
        "3.   Simpler scenarios in games enable fast prototyping. This speeds up the development of algorithms that could eventually run in the real-world; and\n",
        "4.   ... Games are fun! \n",
        "\n",
        "In previous labs, we have explored both supervised (with LSTMs, CNNs) and unsupervised / semi-supervised (with VAEs) learning tasks. Reinforcement learning is fundamentally different, in that we are training a deep learning algorithm to govern the actions of our RL agent, that is trying, within its environment, to find the optimal way to achieve a goal. The goal of training an RL agent is to determine the best next step to take to earn the greatest final payoff or return. In this lab, we focus on building a reinforcement learning algorithm to master two different environments with varying complexity. \n",
        "\n",
        "1.   **Cartpole**:   Balance a pole, protruding from a cart, in an upright position by only moving the base left or right. Environment with a low-dimensional observation space.\n",
        "2.   [**Pong**](https://en.wikipedia.org/wiki/Pong): Beat your competitors (whether other AI or humans!) at the game of Pong. Environment with a high-dimensional observation space -- learning directly from raw pixels.\n",
        "\n",
        "Let's get started! First we'll import TensorFlow, the course package, and some dependencies.\n"
      ]
    },
    {
      "cell_type": "code",
      "metadata": {
        "id": "EvdePP-VyVWp",
        "colab_type": "code",
        "colab": {
          "base_uri": "https://localhost:8080/",
          "height": 357
        },
        "outputId": "ae0271e6-6fba-49ad-fbf7-22c959577533"
      },
      "source": [
        "!apt-get install -y xvfb python-opengl x11-utils > /dev/null 2>&1\n",
        "!pip install gym pyvirtualdisplay scikit-video > /dev/null 2>&1\n",
        "\n",
        "%tensorflow_version 2.x\n",
        "import tensorflow as tf\n",
        "\n",
        "import numpy as np\n",
        "import base64, io, time, gym\n",
        "import IPython, functools\n",
        "import matplotlib.pyplot as plt\n",
        "from tqdm import tqdm\n",
        "\n",
        "!pip install mitdeeplearning\n",
        "import mitdeeplearning as mdl"
      ],
      "execution_count": 1,
      "outputs": [
        {
          "output_type": "stream",
          "text": [
            "TensorFlow 2.x selected.\n",
            "Collecting mitdeeplearning\n",
            "\u001b[?25l  Downloading https://files.pythonhosted.org/packages/8b/3b/b9174b68dc10832356d02a2d83a64b43a24f1762c172754407d22fc8f960/mitdeeplearning-0.1.2.tar.gz (2.1MB)\n",
            "\u001b[K     |████████████████████████████████| 2.1MB 7.4MB/s \n",
            "\u001b[?25hRequirement already satisfied: numpy in /tensorflow-2.1.0/python3.6 (from mitdeeplearning) (1.18.1)\n",
            "Requirement already satisfied: regex in /usr/local/lib/python3.6/dist-packages (from mitdeeplearning) (2019.12.20)\n",
            "Requirement already satisfied: tqdm in /usr/local/lib/python3.6/dist-packages (from mitdeeplearning) (4.28.1)\n",
            "Requirement already satisfied: gym in /usr/local/lib/python3.6/dist-packages (from mitdeeplearning) (0.15.6)\n",
            "Requirement already satisfied: scipy in /tensorflow-2.1.0/python3.6 (from gym->mitdeeplearning) (1.4.1)\n",
            "Requirement already satisfied: pyglet<=1.5.0,>=1.4.0 in /usr/local/lib/python3.6/dist-packages (from gym->mitdeeplearning) (1.4.10)\n",
            "Requirement already satisfied: six in /tensorflow-2.1.0/python3.6 (from gym->mitdeeplearning) (1.14.0)\n",
            "Requirement already satisfied: cloudpickle~=1.2.0 in /usr/local/lib/python3.6/dist-packages (from gym->mitdeeplearning) (1.2.2)\n",
            "Requirement already satisfied: future in /usr/local/lib/python3.6/dist-packages (from pyglet<=1.5.0,>=1.4.0->gym->mitdeeplearning) (0.16.0)\n",
            "Building wheels for collected packages: mitdeeplearning\n",
            "  Building wheel for mitdeeplearning (setup.py) ... \u001b[?25l\u001b[?25hdone\n",
            "  Created wheel for mitdeeplearning: filename=mitdeeplearning-0.1.2-cp36-none-any.whl size=2114586 sha256=4ff70f5578c25cf52bf5eb0194c62ddab1a700ec77da33d00b3f2736041855bc\n",
            "  Stored in directory: /root/.cache/pip/wheels/27/e1/73/5f01c787621d8a3c857f59876c79e304b9b64db9ff5bd61b74\n",
            "Successfully built mitdeeplearning\n",
            "Installing collected packages: mitdeeplearning\n",
            "Successfully installed mitdeeplearning-0.1.2\n"
          ],
          "name": "stdout"
        }
      ]
    },
    {
      "cell_type": "markdown",
      "metadata": {
        "id": "zmrHSiXKTXTY",
        "colab_type": "text"
      },
      "source": [
        "Before we dive in, let's take a step back and outline our approach, which is generally applicable to reinforcement learning problems in general:\n",
        "\n",
        "1. **Initialize our environment and our agent**: here we will describe the different observations and actions the agent can make in the environemnt.\n",
        "2. **Define our agent's memory**: this will enable the agent to remember its past actions, observations, and rewards.\n",
        "3. **Define a reward function**: describes the reward associated with an action or sequence of actions.\n",
        "4. **Define the learning algorithm**: this will be used to reinforce the agent's good behaviors and discourage bad behaviors.\n"
      ]
    },
    {
      "cell_type": "markdown",
      "metadata": {
        "id": "UT7YL8KBJIIc",
        "colab_type": "text"
      },
      "source": [
        "# Part 1: Cartpole\n",
        "\n",
        "## 3.1 Define the Cartpole environment and agent\n",
        "\n",
        "### Environment \n",
        "\n",
        "In order to model the environment for both the Cartpole and Pong tasks, we'll be using a toolkit developed by OpenAI called [OpenAI Gym](https://gym.openai.com/). It provides several pre-defined environments for training and testing reinforcement learning agents, including those for classic physics control tasks, Atari video games, and robotic simulations. To access the Cartpole environment, we can use `env = gym.make(\"CartPole-v0\")`, which we gained access to when we imported the `gym` package. We can instantiate different [environments](https://gym.openai.com/envs/#classic_control) by passing the enivronment name to the `make` function.\n",
        "\n",
        "One issue we might experience when developing RL algorithms is that many aspects of the learning process are inherently random: initializing game states, changes in the environment, and the agent's actions. As such, it can be helpful to set a initial \"seed\" for the environment to ensure some level of reproducibility. Much like you might use `numpy.random.seed`, we can call the comparable function in gym, `seed`, with our defined environment to ensure the environment's random variables are initialized the same each time."
      ]
    },
    {
      "cell_type": "code",
      "metadata": {
        "id": "quv9SC0iIYFm",
        "colab_type": "code",
        "colab": {
          "base_uri": "https://localhost:8080/",
          "height": 68
        },
        "outputId": "df3d2c58-ac89-4126-ab60-c48e31307804"
      },
      "source": [
        "### Instantiate the Cartpole environment ###\n",
        "\n",
        "env = gym.make(\"CartPole-v0\")\n",
        "env.seed(1)"
      ],
      "execution_count": 2,
      "outputs": [
        {
          "output_type": "stream",
          "text": [
            "/usr/local/lib/python3.6/dist-packages/gym/logger.py:30: UserWarning: \u001b[33mWARN: Box bound precision lowered by casting to float32\u001b[0m\n",
            "  warnings.warn(colorize('%s: %s'%('WARN', msg % args), 'yellow'))\n"
          ],
          "name": "stderr"
        },
        {
          "output_type": "execute_result",
          "data": {
            "text/plain": [
              "[1]"
            ]
          },
          "metadata": {
            "tags": []
          },
          "execution_count": 2
        }
      ]
    },
    {
      "cell_type": "markdown",
      "metadata": {
        "id": "mhEITUcKK455",
        "colab_type": "text"
      },
      "source": [
        "In Cartpole, a pole is attached by an un-actuated joint to a cart, which moves along a frictionless track. The pole starts upright, and the goal is to prevent it from falling over. The system is controlled by applying a force of +1 or -1 to the cart. A reward of +1 is provided for every timestep that the pole remains upright. The episode ends when the pole is more than 15 degrees from vertical, or the cart moves more than 2.4 units from the center of the track. A visual summary of the cartpole environment is depicted below:\n",
        "\n",
        "<img width=\"400px\" src=\"https://danielpiedrahita.files.wordpress.com/2017/02/cart-pole.png\"></img>\n",
        "\n",
        "Given this setup for the environment and the objective of the game, we can think about: 1) what observations help define the environment's state; 2) what actions the agent can take. \n",
        "\n",
        "First, let's consider the observation space. In this Cartpole environment our observations are:\n",
        "\n",
        "1. Cart position\n",
        "2. Cart velocity\n",
        "3. Pole angle\n",
        "4. Pole rotation rate\n",
        "\n",
        "We can confirm the size of the space by querying the environment's observation space:\n"
      ]
    },
    {
      "cell_type": "code",
      "metadata": {
        "id": "UVJaEcbdIX82",
        "colab_type": "code",
        "colab": {
          "base_uri": "https://localhost:8080/",
          "height": 34
        },
        "outputId": "65ce7a41-9ea3-49ec-e3e5-fc9b906f70d1"
      },
      "source": [
        "n_observations = env.observation_space\n",
        "print(\"Environment has observation space =\", n_observations)"
      ],
      "execution_count": 3,
      "outputs": [
        {
          "output_type": "stream",
          "text": [
            "Environment has observation space = Box(4,)\n"
          ],
          "name": "stdout"
        }
      ]
    },
    {
      "cell_type": "markdown",
      "metadata": {
        "id": "ZibGgjrALgPM",
        "colab_type": "text"
      },
      "source": [
        "Second, we consider the action space. At every time step, the agent can move either right or left. Again we can confirm the size of the action space by querying the environment:"
      ]
    },
    {
      "cell_type": "code",
      "metadata": {
        "id": "qc9SIPxBIXrm",
        "colab_type": "code",
        "colab": {
          "base_uri": "https://localhost:8080/",
          "height": 34
        },
        "outputId": "08eea4a8-7491-4b32-a408-f94d1c21d233"
      },
      "source": [
        "n_actions = env.action_space.n\n",
        "print(\"Number of possible actions that the agent can choose from =\", n_actions)"
      ],
      "execution_count": 4,
      "outputs": [
        {
          "output_type": "stream",
          "text": [
            "Number of possible actions that the agent can choose from = 2\n"
          ],
          "name": "stdout"
        }
      ]
    },
    {
      "cell_type": "markdown",
      "metadata": {
        "id": "pPfHME8aRKkb",
        "colab_type": "text"
      },
      "source": [
        "### Cartpole agent\n",
        "\n",
        "Now that we have instantiated the environment and understood the dimensionality of the observation and action spaces, we are ready to define our agent. In deep reinforcement learning, a deep neural network defines the agent. This network will take as input an observation of the environment and output the probability of taking each of the possible actions. Since Cartpole is defined by a low-dimensional observation space, a simple feed-forward neural network should work well for our agent. We will define this using the `Sequential` API.\n"
      ]
    },
    {
      "cell_type": "code",
      "metadata": {
        "id": "W-o_XK4oQ4eu",
        "colab_type": "code",
        "colab": {}
      },
      "source": [
        "### Define the Cartpole agent ###\n",
        "\n",
        "# Defines a feed-forward neural network\n",
        "def create_cartpole_model():\n",
        "  model = tf.keras.models.Sequential([\n",
        "      # First Dense layer\n",
        "      tf.keras.layers.Dense(units=32, activation='relu'),\n",
        "\n",
        "      # TODO: Define the last Dense layer, which will provide the network's output.\n",
        "      # Think about the space the agent needs to act in!\n",
        "      tf.keras.layers.Dense(units=n_actions, activation=None) # TODO\n",
        "      # [TODO Dense layer to output action probabilities]\n",
        "  ])\n",
        "  return model\n",
        "\n",
        "cartpole_model = create_cartpole_model()"
      ],
      "execution_count": 0,
      "outputs": []
    },
    {
      "cell_type": "markdown",
      "metadata": {
        "id": "d5D5NSIYS2IW",
        "colab_type": "text"
      },
      "source": [
        "Now that we have defined the core network architecture, we will define an *action function* that executes a forward pass through the network, given a set of observations, and samples from the output. This sampling from the output probabilities will be used to select the next action for the agent. \n",
        "\n",
        "**Critically, this action function is totally general -- we will use this function for both Cartpole and Pong, and it is applicable to other RL tasks, as well!**"
      ]
    },
    {
      "cell_type": "code",
      "metadata": {
        "id": "E_vVZRr8Q4R_",
        "colab_type": "code",
        "colab": {}
      },
      "source": [
        "### Define the agent's action function ###\n",
        "\n",
        "# Function that takes observations as input, executes a forward pass through model, \n",
        "#   and outputs a sampled action.\n",
        "# Arguments:\n",
        "#   model: the network that defines our agent\n",
        "#   observation: observation which is fed as input to the model\n",
        "# Returns:\n",
        "#   action: choice of agent action\n",
        "def choose_action(model, observation):\n",
        "  # add batch dimension to the observation\n",
        "  observation = np.expand_dims(observation, axis=0)\n",
        "\n",
        "  '''TODO: feed the observations through the model to predict the log probabilities of each possible action.'''\n",
        "  logits = model.predict(observation) # TODO\n",
        "  # logits = model.predict('''TODO''')\n",
        "  \n",
        "  # pass the log probabilities through a softmax to compute true probabilities\n",
        "  prob_weights = tf.nn.softmax(logits).numpy()\n",
        "  \n",
        "  '''TODO: randomly sample from the prob_weights to pick an action.\n",
        "  Hint: carefully consider the dimensionality of the input probabilities (vector) and the output action (scalar)'''\n",
        "  action = np.random.choice(n_actions, size=1, p=prob_weights.flatten())[0] # TODO\n",
        "  # action = np.random.choice('''TODO''', size=1, p=''''TODO''')['''TODO''']\n",
        "\n",
        "  return action"
      ],
      "execution_count": 0,
      "outputs": []
    },
    {
      "cell_type": "markdown",
      "metadata": {
        "id": "_tR9uAWcTnkr",
        "colab_type": "text"
      },
      "source": [
        "## 3.2 Define the agent's memory\n",
        "\n",
        "Now that we have instantiated the environment and defined the agent network architecture and action function, we are ready to move on to the next step in our RL workflow:\n",
        "1. **Initialize our environment and our agent**: here we will describe the different observations and actions the agent can make in the environemnt.\n",
        "2. **Define our agent's memory**: this will enable the agent to remember its past actions, observations, and rewards.\n",
        "3. **Define the learning algorithm**: this will be used to reinforce the agent's good behaviors and discourage bad behaviors.\n",
        "\n",
        "In reinforcement learning, training occurs alongside the agent's acting in the environment; an *episode* refers to a sequence of actions that ends in some terminal state, such as the pole falling down or the cart crashing. The agent will need to remember all of its observations and actions, such that once an episode ends, it can learn to \"reinforce\" the good actions and punish the undesirable actions via training. Our first step is to define a simple memory buffer that contains the agent's observations, actions, and received rewards from a given episode. \n",
        "\n",
        "**Once again, note the modularity of this memory buffer -- it can and will be applied to other RL tasks as well!**"
      ]
    },
    {
      "cell_type": "code",
      "metadata": {
        "id": "8MM6JwXVQ4JG",
        "colab_type": "code",
        "colab": {}
      },
      "source": [
        "### Agent Memory ###\n",
        "\n",
        "class Memory:\n",
        "  def __init__(self): \n",
        "      self.clear()\n",
        "\n",
        "  # Resets/restarts the memory buffer\n",
        "  def clear(self): \n",
        "      self.observations = []\n",
        "      self.actions = []\n",
        "      self.rewards = []\n",
        "\n",
        "  # Add observations, actions, rewards to memory\n",
        "  def add_to_memory(self, new_observation, new_action, new_reward): \n",
        "      self.observations.append(new_observation)\n",
        "      '''TODO: update the list of actions with new action'''\n",
        "      self.actions.append(new_action) # TODO\n",
        "      # ['''TODO''']\n",
        "      '''TODO: update the list of rewards with new reward'''\n",
        "      self.rewards.append(new_reward) # TODO\n",
        "      # ['''TODO''']\n",
        "        \n",
        "memory = Memory()"
      ],
      "execution_count": 0,
      "outputs": []
    },
    {
      "cell_type": "markdown",
      "metadata": {
        "id": "D4YhtPaUVj5m",
        "colab_type": "text"
      },
      "source": [
        "## 3.3 Reward function\n",
        "\n",
        "We're almost ready to begin the learning algorithm for our agent! The next step is to compute the rewards of our agent as it acts in the environment. Since we (and the agent) is uncertain about if and when the game or task will end (i.e., when the pole will fall), it is useful to emphasize getting rewards **now** rather than later in the future -- this is the idea of discounting. This is a similar concept to discounting money in the case of interest. ecall from lecture, we use reward discount to give more preference at getting rewards now rather than later in the future. The idea of discounting rewards is similar to discounting money in the case of interest.\n",
        "\n",
        "To compute the expected cumulative reward, known as the **return**, at a given timestep in a learning episode, we sum the discounted rewards expected at that time step $t$, within a learning episode, and projecting into the future. We define the return (cumulative reward) at a time step $t$, $R_{t}$ as:\n",
        "\n",
        ">$R_{t}=\\sum_{k=0}^\\infty\\gamma^kr_{t+k}$\n",
        "\n",
        "where  $0 < \\gamma < 1$ is the discount factor and $r_{t}$ is the reward at time step $t$, and the index $k$ increments projection into the future within a single learning episode. Intuitively, you can think of this function as depreciating any rewards received at later time steps, which will force the agent prioritize getting rewards now. Since we can't extend episodes to infinity, in practice the computation will be limited to the number of timesteps in an episode -- after that the reward is assumed to be zero.\n",
        "\n",
        "Take note of the form of this sum -- we'll have to be clever about how we implement this function. Specifically, we'll need to initialize an array of zeros, with length of the number of time steps, and fill it with the real discounted reward values as we loop through the rewards from the episode, which will have been saved in the agents memory. What we ultimately care about is which actions are better relative to other actions taken in that episode -- so, we'll normalize our computed rewards, using the mean and standard deviation of the rewards across the learning episode.\n"
      ]
    },
    {
      "cell_type": "code",
      "metadata": {
        "id": "5_Q2OFYtQ32X",
        "colab_type": "code",
        "colab": {}
      },
      "source": [
        "### Reward function ###\n",
        "\n",
        "# Helper function that normalizes an np.array x\n",
        "def normalize(x):\n",
        "  x -= np.mean(x)\n",
        "  x /= np.std(x)\n",
        "  return x.astype(np.float32)\n",
        "\n",
        "# Compute normalized, discounted, cumulative rewards (i.e., return)\n",
        "# Arguments:\n",
        "#   rewards: reward at timesteps in episode\n",
        "#   gamma: discounting factor\n",
        "# Returns:\n",
        "#   normalized discounted reward\n",
        "def discount_rewards(rewards, gamma=0.95): \n",
        "  discounted_rewards = np.zeros_like(rewards)\n",
        "  R = 0\n",
        "  for t in reversed(range(0, len(rewards))):\n",
        "      # update the total discounted reward\n",
        "      R = R * gamma + rewards[t]\n",
        "      discounted_rewards[t] = R\n",
        "      \n",
        "  return normalize(discounted_rewards)"
      ],
      "execution_count": 0,
      "outputs": []
    },
    {
      "cell_type": "markdown",
      "metadata": {
        "id": "QzbY-mjGYcmt",
        "colab_type": "text"
      },
      "source": [
        "## 3.4 Learning algorithm\n",
        "\n",
        "Now we can start to define the learing algorithm which will be used to reinforce good behaviors of the agent and discourage bad behaviours. In this lab, we will focus on *policy gradient* methods which aim to **maximize** the likelihood of actions that result in large rewards. Equivalently, this means that we want to **minimize** the negative likelihood of these same actions. We achieve this by simply **scaling** the probabilities by their associated rewards -- effectively amplifying the likelihood of actions that resujlt in large rewards.\n",
        "\n",
        "Since the log function is monotonically increasing, this means that minimizing **negative likelihood** is equivalent to minimizing **negative log-likelihood**.  Recall that we can easily compute the negative log-likelihood of a discrete action by evaluting its [softmax cross entropy](https://www.tensorflow.org/api_docs/python/tf/nn/sparse_softmax_cross_entropy_with_logits). Like in supervised learning, we can use stochastic gradient descent methods to achieve the desired minimization. \n",
        "\n",
        "Let's begin by defining the loss function."
      ]
    },
    {
      "cell_type": "code",
      "metadata": {
        "id": "fsgZ3IDCY_Zn",
        "colab_type": "code",
        "colab": {}
      },
      "source": [
        "### Loss function ###\n",
        "\n",
        "# Arguments:\n",
        "#   logits: network's predictions for actions to take\n",
        "#   actions: the actions the agent took in an episode\n",
        "#   rewards: the rewards the agent received in an episode\n",
        "# Returns:\n",
        "#   loss\n",
        "def compute_loss(logits, actions, rewards): \n",
        "  '''TODO: complete the function call to compute the negative log probabilities'''\n",
        "  neg_logprob = tf.nn.sparse_softmax_cross_entropy_with_logits(logits=logits, labels=actions) # TODO\n",
        "  # neg_logprob = tf.nn.sparse_softmax_cross_entropy_with_logits(logits='''TODO''', labels='''TODO''')\n",
        "  \n",
        "  '''TODO: scale the negative log probability by the rewards'''\n",
        "  loss = tf.reduce_mean( neg_logprob * rewards ) # TODO\n",
        "  # loss = tf.reduce_mean('''TODO''')\n",
        "  return loss"
      ],
      "execution_count": 0,
      "outputs": []
    },
    {
      "cell_type": "markdown",
      "metadata": {
        "id": "Rr5vQ9fqbPpp",
        "colab_type": "text"
      },
      "source": [
        "Now let's use the loss function to define a training step of our learning algorithm:"
      ]
    },
    {
      "cell_type": "code",
      "metadata": {
        "id": "_50ada7nbZ7L",
        "colab_type": "code",
        "colab": {}
      },
      "source": [
        "### Training step (forward and backpropagation) ###\n",
        "\n",
        "def train_step(model, optimizer, observations, actions, discounted_rewards):\n",
        "  with tf.GradientTape() as tape:\n",
        "      # Forward propagate through the agent network\n",
        "      logits = model(observations)\n",
        "\n",
        "      '''TODO: call the compute_loss function to compute the loss'''\n",
        "      loss = compute_loss(logits, actions, discounted_rewards) # TODO\n",
        "      # loss = compute_loss('''TODO''', '''TODO''', '''TODO''')\n",
        "\n",
        "  '''TODO: run backpropagation to minimize the loss using the tape.gradient method'''\n",
        "  grads = tape.gradient(loss, model.trainable_variables) # TODO\n",
        "  # grads = tape.gradient('''TODO''', model.trainable_variables)\n",
        "  optimizer.apply_gradients(zip(grads, model.trainable_variables))\n"
      ],
      "execution_count": 0,
      "outputs": []
    },
    {
      "cell_type": "markdown",
      "metadata": {
        "id": "XsjKXh6BcgjR",
        "colab_type": "text"
      },
      "source": [
        "## 3.5 Run cartpole!\n",
        "\n",
        "Having had no prior knowledge of the environment, the agent will begin to learn how to balance the pole on the cart based only on the feedback received from the environment! Having defined how our agent can move, how it takes in new observations, and how it updates its state, we'll see how it gradually learns a policy of actions to optimize balancing the pole as long as possible. To do this, we'll track how the rewards evolve as a function of training -- how should the rewards change as training progresses?"
      ]
    },
    {
      "cell_type": "code",
      "metadata": {
        "id": "XmOzc2rrcn8Q",
        "colab_type": "code",
        "colab": {
          "base_uri": "https://localhost:8080/",
          "height": 541
        },
        "outputId": "06dadef5-0f79-43d6-dcf6-609b29235746"
      },
      "source": [
        "### Cartpole training! ###\n",
        "\n",
        "# Learning rate and optimizer\n",
        "learning_rate = 1e-3\n",
        "optimizer = tf.keras.optimizers.Adam(learning_rate)\n",
        "\n",
        "# instantiate cartpole agent\n",
        "cartpole_model = create_cartpole_model()\n",
        "\n",
        "# to track our progress\n",
        "smoothed_reward = mdl.util.LossHistory(smoothing_factor=0.9)\n",
        "plotter = mdl.util.PeriodicPlotter(sec=2, xlabel='Iterations', ylabel='Rewards')\n",
        "\n",
        "if hasattr(tqdm, '_instances'): tqdm._instances.clear() # clear if it exists\n",
        "for i_episode in range(500):\n",
        "\n",
        "  plotter.plot(smoothed_reward.get())\n",
        "\n",
        "  # Restart the environment\n",
        "  observation = env.reset()\n",
        "  memory.clear()\n",
        "\n",
        "  while True:\n",
        "      # using our observation, choose an action and take it in the environment\n",
        "      action = choose_action(cartpole_model, observation)\n",
        "      next_observation, reward, done, info = env.step(action)\n",
        "      # add to memory\n",
        "      memory.add_to_memory(observation, action, reward)\n",
        "      \n",
        "      # is the episode over? did you crash or do so well that you're done?\n",
        "      if done:\n",
        "          # determine total reward and keep a record of this\n",
        "          total_reward = sum(memory.rewards)\n",
        "          smoothed_reward.append(total_reward)\n",
        "          \n",
        "          # initiate training - remember we don't know anything about how the \n",
        "          #   agent is doing until it has crashed!\n",
        "          train_step(cartpole_model, optimizer, \n",
        "                     observations=np.vstack(memory.observations),\n",
        "                     actions=np.array(memory.actions),\n",
        "                     discounted_rewards = discount_rewards(memory.rewards))\n",
        "          \n",
        "          # reset the memory\n",
        "          memory.clear()\n",
        "          break\n",
        "      # update our observatons\n",
        "      observation = next_observation"
      ],
      "execution_count": 11,
      "outputs": [
        {
          "output_type": "display_data",
          "data": {
            "image/png": "[encoded data removed]",
            "text/plain": [
              "<Figure size 432x288 with 1 Axes>"
            ]
          },
          "metadata": {
            "tags": []
          }
        },
        {
          "output_type": "display_data",
          "data": {
            "image/png": "[encoded data removed]",
            "text/plain": [
              "<Figure size 432x288 with 1 Axes>"
            ]
          },
          "metadata": {
            "tags": []
          }
        }
      ]
    },
    {
      "cell_type": "markdown",
      "metadata": {
        "id": "mkcUtGF1VE-K",
        "colab_type": "text"
      },
      "source": [
        "To get a sense of how our agent did, we can save a video of the trained model working on balancing the pole. Realize that this is a brand new environment that the agent has not seen before!\n",
        "\n",
        "Let's display the saved video to watch how our agent did!\n"
      ]
    },
    {
      "cell_type": "code",
      "metadata": {
        "id": "PAYBkv6Zbk0J",
        "colab_type": "code",
        "colab": {
          "base_uri": "https://localhost:8080/",
          "height": 472
        },
        "outputId": "ac2c8685-19b0-4219-bf24-e277863bf3d4"
      },
      "source": [
        "saved_cartpole = mdl.lab3.save_video_of_model(cartpole_model, \"CartPole-v0\")\n",
        "mdl.lab3.play_video(saved_cartpole)"
      ],
      "execution_count": 12,
      "outputs": [
        {
          "output_type": "stream",
          "text": [
            "/usr/local/lib/python3.6/dist-packages/gym/logger.py:30: UserWarning: \u001b[33mWARN: Box bound precision lowered by casting to float32\u001b[0m\n",
            "  warnings.warn(colorize('%s: %s'%('WARN', msg % args), 'yellow'))\n"
          ],
          "name": "stderr"
        },
        {
          "output_type": "stream",
          "text": [
            "Successfully saved 200 frames into CartPole-v0.mp4!\n"
          ],
          "name": "stdout"
        },
        {
          "output_type": "execute_result",
          "data": {
            "text/html": [
              "\n",
              "        <video controls>\n",
              "            <source src=\"data:video/mp4;base64,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\" type=\"video/mp4\" />\n",
              "        </video>"
            ],
            "text/plain": [
              "<IPython.core.display.HTML object>"
            ]
          },
          "metadata": {
            "tags": []
          },
          "execution_count": 12
        }
      ]
    },
    {
      "cell_type": "markdown",
      "metadata": {
        "id": "CSbVNDpaVb3_",
        "colab_type": "text"
      },
      "source": [
        "How does the agent perform? Could you train it for shorter amounts of time and still perform well? Do you think that training longer would help even more? "
      ]
    },
    {
      "cell_type": "markdown",
      "metadata": {
        "id": "Eu6Mqxc720ST",
        "colab_type": "text"
      },
      "source": [
        "#Part 2: Pong\n",
        "\n",
        "In Cartpole, we dealt with an environment that was static -- in other words, it didn't change over time. What happens if our environment is dynamic and unpredictable? Well that's exactly the case in [Pong](https://en.wikipedia.org/wiki/Pong), since part of the environment is the opposing player. We don't know how our opponent will act or react to our actions, so the complexity of our problem increases. It also becomes much more interesting, since we can compete to beat our opponent. RL provides a powerful framework for training AI systems with the ability to handle and interact with dynamic, unpredictable environments. In this part of the lab, we'll use the tools and workflow we explored in Part 1 to build an RL agent capable of playing the game of Pong.\n"
      ]
    },
    {
      "cell_type": "markdown",
      "metadata": {
        "id": "srZ4YE29isuA",
        "colab_type": "text"
      },
      "source": [
        "## 3.6 Define and inspect the Pong environment\n",
        "\n",
        "As with Cartpole, we'll instantiate the Pong environment in the OpenAI gym, using a seed of 1."
      ]
    },
    {
      "cell_type": "code",
      "metadata": {
        "id": "lbYHLr66i15n",
        "colab_type": "code",
        "colab": {}
      },
      "source": [
        "env = gym.make(\"Pong-v0\", frameskip=5)\n",
        "env.seed(1); # for reproducibility"
      ],
      "execution_count": 0,
      "outputs": []
    },
    {
      "cell_type": "markdown",
      "metadata": {
        "id": "52uZ2Xhyi-MW",
        "colab_type": "text"
      },
      "source": [
        "Let's next consider the observation space for the Pong environment. Instead of four physical descriptors of the cart-pole setup, in the case of Pong our observations are the individual video frames (i.e., images) that depict the state of the board. Thus, the observations are 210x160 RGB images (arrays of shape (210,160,3)).\n",
        "\n",
        "We can again confirm the size of the observation space by query:"
      ]
    },
    {
      "cell_type": "code",
      "metadata": {
        "id": "0yX4GWvxjnHS",
        "colab_type": "code",
        "colab": {
          "base_uri": "https://localhost:8080/",
          "height": 34
        },
        "outputId": "81c87fe5-8310-4cc1-a73d-9febb094646d"
      },
      "source": [
        "print(\"Environment has observation space =\", env.observation_space)"
      ],
      "execution_count": 14,
      "outputs": [
        {
          "output_type": "stream",
          "text": [
            "Environment has observation space = Box(210, 160, 3)\n"
          ],
          "name": "stdout"
        }
      ]
    },
    {
      "cell_type": "markdown",
      "metadata": {
        "id": "uuEC2TdSjx9D",
        "colab_type": "text"
      },
      "source": [
        "In Pong, at every time step, the agent (which controls the paddle) has six actions to choose from: no-op (no operation), move right, move left, fire, fire right, and fire left. Let's confirm the size of the action space by querying the environment:"
      ]
    },
    {
      "cell_type": "code",
      "metadata": {
        "id": "Iuy9oPc1kag3",
        "colab_type": "code",
        "colab": {
          "base_uri": "https://localhost:8080/",
          "height": 34
        },
        "outputId": "6f91671f-b362-49aa-a9ec-d1462d43b680"
      },
      "source": [
        "n_actions = env.action_space.n\n",
        "print(\"Number of possible actions that the agent can choose from =\", n_actions)"
      ],
      "execution_count": 15,
      "outputs": [
        {
          "output_type": "stream",
          "text": [
            "Number of possible actions that the agent can choose from = 6\n"
          ],
          "name": "stdout"
        }
      ]
    },
    {
      "cell_type": "markdown",
      "metadata": {
        "id": "9-fghDRigUE5",
        "colab_type": "text"
      },
      "source": [
        "## 3.7 Define the Pong agent\n",
        "\n",
        "As before, we'll use a neural network to define our agent. What network architecture do you think would be especially well suited to this game? Since our observations are now in the form of images, we'll add convolutional layers to the network to increase the learning capacity of our network."
      ]
    },
    {
      "cell_type": "code",
      "metadata": {
        "id": "IJiqbFYpgYRH",
        "colab_type": "code",
        "colab": {}
      },
      "source": [
        "### Define the Pong agent ###\n",
        "\n",
        "# Functionally define layers for convenience\n",
        "# All convolutional layers will have ReLu activation\n",
        "Conv2D = functools.partial(tf.keras.layers.Conv2D, padding='same', activation='relu')\n",
        "Flatten = tf.keras.layers.Flatten\n",
        "Dense = tf.keras.layers.Dense\n",
        "\n",
        "# Defines a CNN for the Pong agent\n",
        "def create_pong_model():\n",
        "  model = tf.keras.models.Sequential([\n",
        "    # Convolutional layers\n",
        "    # First, 16 7x7 filters and 4x4 stride\n",
        "    Conv2D(filters=16, kernel_size=7, strides=4),\n",
        "\n",
        "    # TODO: define convolutional layers with 32 5x5 filters and 2x2 stride\n",
        "    Conv2D(filters=32, kernel_size=5, strides=2), # TODO\n",
        "    # Conv2D('''TODO'''),\n",
        "\n",
        "    # TODO: define convolutional layers with 48 3x3 filters and 2x2 stride\n",
        "    Conv2D(filters=48, kernel_size=3, strides=2), # TODO\n",
        "    # Conv2D('''TODO'''),\n",
        "\n",
        "    Flatten(),\n",
        "    \n",
        "    # Fully connected layer and output\n",
        "    Dense(units=64, activation='relu'),\n",
        "    # TODO: define the output dimension of the last Dense layer. \n",
        "    # Pay attention to the space the agent needs to act in\n",
        "    Dense(units=n_actions, activation=None) # TODO\n",
        "    # Dense('''TODO''')\n",
        "  \n",
        "  ])\n",
        "  return model\n",
        "\n",
        "pong_model = create_pong_model()"
      ],
      "execution_count": 0,
      "outputs": []
    },
    {
      "cell_type": "markdown",
      "metadata": {
        "id": "yaeZ067olFiJ",
        "colab_type": "text"
      },
      "source": [
        "Since we've already defined the action function, `choose_action(model, observation)`, we don't need to define it again. Instead, we'll be able to reuse it later on by passing in our new model we've just created, `pong_model`. This is awesome because our action function provides a modular and generalizable method for all sorts of RL agents!"
      ]
    },
    {
      "cell_type": "markdown",
      "metadata": {
        "id": "l0RvqOVkmc2r",
        "colab_type": "text"
      },
      "source": [
        "## 3.8 Pong-specific functions\n",
        "\n",
        "In Part 1 (Cartpole), we implemented some key functions and classes to build and train our RL agent -- `choose_action(model, observation)` and the `Memory` class, for example. However, in getting ready to apply these to a new game like Pong, we might need to make some slight modifications. \n",
        "\n",
        "Namely, we need to think about what happens when a game ends. In Pong, we know a game has ended if the reward is +1 (we won!) or -1 (we lost unfortunately). Otherwise, we expect the reward at a timestep to be zero -- the players (or agents) are just playing eachother. So, after a game ends, we will need to reset the reward to zero when a game ends. This will result in a modified reward function."
      ]
    },
    {
      "cell_type": "code",
      "metadata": {
        "id": "iEZG2o50luLu",
        "colab_type": "code",
        "colab": {}
      },
      "source": [
        "### Pong reward function ###\n",
        "\n",
        "# Compute normalized, discounted rewards for Pong (i.e., return)\n",
        "# Arguments:\n",
        "#   rewards: reward at timesteps in episode\n",
        "#   gamma: discounting factor. Note increase to 0.99 -- rate of depreciation will be slower.\n",
        "# Returns:\n",
        "#   normalized discounted reward\n",
        "def discount_rewards(rewards, gamma=0.99): \n",
        "  discounted_rewards = np.zeros_like(rewards)\n",
        "  R = 0\n",
        "  for t in reversed(range(0, len(rewards))):\n",
        "      # NEW: Reset the sum if the reward is not 0 (the game has ended!)\n",
        "      if rewards[t] != 0:\n",
        "        R = 0\n",
        "      # update the total discounted reward as before\n",
        "      R = R * gamma + rewards[t]\n",
        "      discounted_rewards[t] = R\n",
        "      \n",
        "  return normalize(discounted_rewards)"
      ],
      "execution_count": 0,
      "outputs": []
    },
    {
      "cell_type": "markdown",
      "metadata": {
        "id": "HopLpb4IoOqA",
        "colab_type": "text"
      },
      "source": [
        "Additionally, we have to consider the nature of the observations in the Pong environment, and how they will be fed into our network. Our observations in this case are images. Before we input an image into our network, we'll do a bit of pre-processing to crop and scale, clean up the background colors to a single color, and set the important game elements to a single color. Let's use this function to visualize what an observation might look like before and after pre-processing."
      ]
    },
    {
      "cell_type": "code",
      "metadata": {
        "id": "no5IIYtFm8pI",
        "colab_type": "code",
        "colab": {
          "base_uri": "https://localhost:8080/",
          "height": 227
        },
        "outputId": "fd9ed84e-3765-4541-deb5-7ed7eeef73c8"
      },
      "source": [
        "observation = env.reset()\n",
        "for i in range(30):\n",
        "  observation, _,_,_ = env.step(0)\n",
        "observation_pp = mdl.lab3.preprocess_pong(observation)\n",
        "\n",
        "f = plt.figure(figsize=(10,3))\n",
        "ax = f.add_subplot(121)\n",
        "ax2 = f.add_subplot(122)\n",
        "ax.imshow(observation); ax.grid(False);\n",
        "ax2.imshow(np.squeeze(observation_pp)); ax2.grid(False); plt.title('Preprocessed Observation');"
      ],
      "execution_count": 19,
      "outputs": [
        {
          "output_type": "display_data",
          "data": {
            "image/png": "[encoded data removed]",
            "text/plain": [
              "<Figure size 720x216 with 2 Axes>"
            ]
          },
          "metadata": {
            "tags": []
          }
        }
      ]
    },
    {
      "cell_type": "markdown",
      "metadata": {
        "id": "bYwIWC-Cz8F2",
        "colab_type": "text"
      },
      "source": [
        "What do you notice? How might these changes be important for training our RL algorithm?"
      ]
    },
    {
      "cell_type": "markdown",
      "metadata": {
        "id": "mRqcaDQ1pm3x",
        "colab_type": "text"
      },
      "source": [
        "## 3.9 Training Pong\n",
        "\n",
        "We're now all set up to start training our RL algorithm and agent for the game of Pong! We've already defined our loss function with `compute_loss`, which employs policy gradient learning, as well as our backpropagation step with `train_step` which is beautiful! We will use these functions to execute training the Pong agent. Let's walk through the training block.\n",
        "\n",
        "In Pong, rather than feeding our network one image at a time, it can actually improve performance to input the difference between two consecutive observations, which really gives us information about the movement between frames -- how the game is changing. We'll first pre-process the raw observation, `x`, and then we'll compute the difference with the image frame we saw one timestep before. \n",
        "\n",
        "This observation change will be forward propagated through our Pong agent, the CNN network model, which will then predict the next action to take based on this observation. The raw reward will be computed, and the observation, action, and reward will be recorded into memory. This will continue until a training episode, i.e., a game, ends.\n",
        "\n",
        "Then, we will compute the discounted rewards, and use this information to execute a training step. Memory will be cleared, and we will do it all over again!\n",
        "\n",
        "Let's run the code block to train our Pong agent. Note that completing training will take quite a bit of time (estimated at least a couple of hours). We will again visualize the evolution of the total reward as a function of training to get a sense of how the agent is learning."
      ]
    },
    {
      "cell_type": "code",
      "metadata": {
        "id": "xCwyQQrPnkZG",
        "colab_type": "code",
        "colab": {
          "base_uri": "https://localhost:8080/",
          "height": 279
        },
        "outputId": "1bdf895b-af87-4b51-dd13-5b3a9b9e6ad8"
      },
      "source": [
        "### Training Pong ###\n",
        "\n",
        "# Hyperparameters\n",
        "learning_rate=1e-4\n",
        "MAX_ITERS = 10000 # increase the maximum number of episodes, since Pong is more complex!\n",
        "\n",
        "# Model and optimizer\n",
        "pong_model = create_pong_model()\n",
        "optimizer = tf.keras.optimizers.Adam(learning_rate)\n",
        "\n",
        "# plotting\n",
        "smoothed_reward = mdl.util.LossHistory(smoothing_factor=0.9)\n",
        "plotter = mdl.util.PeriodicPlotter(sec=5, xlabel='Iterations', ylabel='Rewards')\n",
        "memory = Memory()\n",
        "\n",
        "for i_episode in range(MAX_ITERS):\n",
        "\n",
        "  plotter.plot(smoothed_reward.get())\n",
        "\n",
        "  # Restart the environment\n",
        "  observation = env.reset()\n",
        "  previous_frame = mdl.lab3.preprocess_pong(observation)\n",
        "\n",
        "  while True:\n",
        "      # Pre-process image \n",
        "      current_frame = mdl.lab3.preprocess_pong(observation)\n",
        "      \n",
        "      '''TODO: determine the observation change\n",
        "      Hint: this is the difference between the past two frames'''\n",
        "      obs_change = current_frame - previous_frame # TODO\n",
        "      # obs_change = # TODO\n",
        "      \n",
        "      '''TODO: choose an action for the pong model, using the frame difference, and evaluate'''\n",
        "      action = choose_action(pong_model, obs_change) # TODO \n",
        "      # action = # TODO\n",
        "      # Take the chosen action\n",
        "      next_observation, reward, done, info = env.step(action)\n",
        "\n",
        "      '''TODO: save the observed frame difference, the action that was taken, and the resulting reward!'''\n",
        "      memory.add_to_memory(obs_change, action, reward) # TODO\n",
        "      \n",
        "      # is the episode over? did you crash or do so well that you're done?\n",
        "      if done:\n",
        "          # determine total reward and keep a record of this\n",
        "          total_reward = sum(memory.rewards)\n",
        "          smoothed_reward.append( total_reward )\n",
        "\n",
        "          # begin training\n",
        "          train_step(pong_model, \n",
        "                     optimizer, \n",
        "                     observations = np.stack(memory.observations, 0), \n",
        "                     actions = np.array(memory.actions),\n",
        "                     discounted_rewards = discount_rewards(memory.rewards))\n",
        "          \n",
        "          memory.clear()\n",
        "          break\n",
        "\n",
        "      observation = next_observation\n",
        "      previous_frame = current_frame"
      ],
      "execution_count": 0,
      "outputs": [
        {
          "output_type": "display_data",
          "data": {
            "image/png": "[encoded data removed]",
            "text/plain": [
              "<Figure size 432x288 with 1 Axes>"
            ]
          },
          "metadata": {
            "tags": []
          }
        }
      ]
    },
    {
      "cell_type": "markdown",
      "metadata": {
        "id": "8LiEY5Y_ts-Z",
        "colab_type": "text"
      },
      "source": [
        "Finally we can put our trained agent to the test! It will play in a newly instantiated Pong environment against the \"computer\", a base AI system for Pong. Your agent plays as the green paddle. Let's watch the match instant replay!"
      ]
    },
    {
      "cell_type": "code",
      "metadata": {
        "id": "TvHXbkL0tR6M",
        "colab_type": "code",
        "colab": {
          "base_uri": "https://localhost:8080/",
          "height": 214
        },
        "outputId": "117f1dd7-0278-498f-db68-df12dd30ead6"
      },
      "source": [
        "saved_pong = mdl.lab3.save_video_of_model(\n",
        "    pong_model, \"Pong-v0\", obs_diff=True, \n",
        "    pp_fn=mdl.lab3.preprocess_pong)\n",
        "mdl.lab3.play_video(saved_pong)"
      ],
      "execution_count": 1,
      "outputs": [
        {
          "output_type": "error",
          "ename": "NameError",
          "evalue": "ignored",
          "traceback": [
            "\u001b[0;31m---------------------------------------------------------------------------\u001b[0m",
            "\u001b[0;31mNameError\u001b[0m                                 Traceback (most recent call last)",
            "\u001b[0;32m<ipython-input-1-00442644751a>\u001b[0m in \u001b[0;36m<module>\u001b[0;34m()\u001b[0m\n\u001b[0;32m----> 1\u001b[0;31m saved_pong = mdl.lab3.save_video_of_model(\n\u001b[0m\u001b[1;32m      2\u001b[0m     \u001b[0mpong_model\u001b[0m\u001b[0;34m,\u001b[0m \u001b[0;34m\"Pong-v0\"\u001b[0m\u001b[0;34m,\u001b[0m \u001b[0mobs_diff\u001b[0m\u001b[0;34m=\u001b[0m\u001b[0;32mTrue\u001b[0m\u001b[0;34m,\u001b[0m\u001b[0;34m\u001b[0m\u001b[0;34m\u001b[0m\u001b[0m\n\u001b[1;32m      3\u001b[0m     pp_fn=mdl.lab3.preprocess_pong)\n\u001b[1;32m      4\u001b[0m \u001b[0mmdl\u001b[0m\u001b[0;34m.\u001b[0m\u001b[0mlab3\u001b[0m\u001b[0;34m.\u001b[0m\u001b[0mplay_video\u001b[0m\u001b[0;34m(\u001b[0m\u001b[0msaved_pong\u001b[0m\u001b[0;34m)\u001b[0m\u001b[0;34m\u001b[0m\u001b[0;34m\u001b[0m\u001b[0m\n",
            "\u001b[0;31mNameError\u001b[0m: name 'mdl' is not defined"
          ]
        }
      ]
    },
    {
      "cell_type": "markdown",
      "metadata": {
        "id": "TIlwIgBP3Js6",
        "colab_type": "text"
      },
      "source": [
        "## 3.10 Conclusion\n",
        "\n",
        "That's it! Congratulations on training two RL agents and putting them to the test! We encourage you to consider the following:\n",
        "\n",
        "*   How does the agent perform?\n",
        "*   Could you train it for shorter amounts of time  and still perform well?\n",
        "*   Do you think that training longer would help even more? \n",
        "* How does the complexity of Pong relative to Cartpole alter the rate at which the agent learns and its performance? \n",
        "* What are some things you could change about the agent or the learning process to potentially improve performance?\n",
        "\n",
        "If you want to go further, try to optimize your model to achieve the best performance! **[Email us](mailto:introtodeeplearning-staff@mit.edu) a copy of your notebook with the Pong training executed AND a saved video of your Pong agent competing! We'll give out prizes to the best performers!**"
      ]
    }
  ]
}